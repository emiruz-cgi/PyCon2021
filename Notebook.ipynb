{
 "cells": [
  {
   "cell_type": "code",
   "execution_count": 1,
   "id": "82da49df",
   "metadata": {},
   "outputs": [],
   "source": [
    "import numpy as np\n",
    "import matplotlib.pyplot as plt"
   ]
  },
  {
   "cell_type": "markdown",
   "id": "04025218",
   "metadata": {},
   "source": [
    "# Faux data"
   ]
  },
  {
   "cell_type": "markdown",
   "id": "116603bc",
   "metadata": {},
   "source": [
    "A builder class to for fake data."
   ]
  },
  {
   "cell_type": "code",
   "execution_count": 2,
   "id": "6fbb7ed4",
   "metadata": {},
   "outputs": [],
   "source": [
    "class Data():\n",
    "    \n",
    "    def __init__(self, start=0):\n",
    "        self.data = [start]\n",
    "\n",
    "    def add(self, grad, n):\n",
    "        self.data += (\n",
    "            self.data[-1] + \\\n",
    "            grad * np.arange(1, n + 1)\n",
    "        ).tolist()\n",
    "        return self\n",
    "\n",
    "    def get(self):\n",
    "        return self.data"
   ]
  },
  {
   "cell_type": "markdown",
   "id": "4011d123",
   "metadata": {},
   "source": [
    "Five products convenient to evaluate for changepoints by just comparing their gradients (since they are made up of straight lines). The series are contrived so that they exhibit points in time which have 0, 1, 2, 3 and 4 simultaneous changepoints."
   ]
  },
  {
   "cell_type": "code",
   "execution_count": 3,
   "id": "683da1cb",
   "metadata": {},
   "outputs": [],
   "source": [
    "y1 = Data(50).add(0, 60).get()\n",
    "y2 = Data(25).add(0, 40).add(10, 10).add(-2.5, 10).get()\n",
    "y3 = Data(30).add(0, 30).add(10, 10).add(-10, 10). add(10, 10).get()\n",
    "y4 = Data(120).add(-2.5,40).add(5,10).add(-5,10).get()\n",
    "y5 = Data(0).add(2.5, 20).add(5, 10).add(-2.5, 20).add(0, 10).get()\n",
    "D = np.vstack([y1, y2, y3, y4, y5]).T"
   ]
  },
  {
   "cell_type": "markdown",
   "id": "fbd8232d",
   "metadata": {},
   "source": [
    "A colourful plot to delight and dazzle. Axis labels omitted for mystery and intrigue."
   ]
  },
  {
   "cell_type": "code",
   "execution_count": 4,
   "id": "1f111763",
   "metadata": {},
   "outputs": [
    {
     "data": {
      "image/png": "[encoded data removed]",
      "text/plain": [
       "<Figure size 432x288 with 1 Axes>"
      ]
     },
     "metadata": {
      "needs_background": "light"
     },
     "output_type": "display_data"
    }
   ],
   "source": [
    "plt.plot(y1)\n",
    "plt.plot(y2)\n",
    "plt.plot(y3)\n",
    "plt.plot(y4)\n",
    "plt.plot(y5)\n",
    "plt.tight_layout()"
   ]
  },
  {
   "cell_type": "markdown",
   "id": "e42d5e21",
   "metadata": {},
   "source": [
    "# Changepoint analysis"
   ]
  },
  {
   "cell_type": "markdown",
   "id": "577f33df",
   "metadata": {},
   "source": [
    "The skeleton for a change point detector class."
   ]
  },
  {
   "cell_type": "code",
   "execution_count": 5,
   "id": "c245526e",
   "metadata": {},
   "outputs": [],
   "source": [
    "class ChangeDetector:\n",
    "    \n",
    "    def __init__(self):\n",
    "        self.summary = None\n",
    "\n",
    "    #Since all the series are line segments, the cp_detect\n",
    "    # function -- provided as a toy example -- just checks\n",
    "    # to see if the difference between the gradients of the\n",
    "    # lines have changed in order to determine change points.\n",
    "    def __cp_detect(self, s1, s2):\n",
    "        d = np.diff(s1) - np.diff(s2)\n",
    "        chg = np.argwhere(d[:-1] != d[1:]).flatten()\n",
    "        if len(chg) > 0: \n",
    "            chg = chg + 1\n",
    "        return np.isin(np.arange(0, len(s1)), chg)\n",
    "    \n",
    "    # For each pair pair of products and each time point\n",
    "    # calculate whether a changepoint occurred. That's\n",
    "    # a 3D boolean array: product x product x time.\n",
    "    # Since the relationships are assumed to be symmetrical,\n",
    "    # we only need to calculate where p > q.\n",
    "    def fit(self, D):\n",
    "        n, m = D.shape\n",
    "        summary = np.zeros((m, m, n))\n",
    "        for p in np.arange(0, m):\n",
    "            for q in np.arange(0, m):\n",
    "                if p > q:\n",
    "                    d = self.__cp_detect(D[:, p], D[:, q])\n",
    "                    summary[p, q, :] = d\n",
    "                    summary[q, p, :] = d\n",
    "        self.summary = summary\n",
    "        return self\n",
    "    \n",
    "    # Just count up changepoints along either product axis\n",
    "    # to produce a 2D product x time matrix.\n",
    "    def predict(self):\n",
    "        return np.apply_along_axis(np.sum, 0, self.summary)"
   ]
  },
  {
   "cell_type": "markdown",
   "id": "6da3e271",
   "metadata": {},
   "source": [
    "Now we can output a visual of the (product) x (time) matrix and see for which products all relationships changed and when. Clear to see that 1, 2, 3 and 4 changes have been detected."
   ]
  },
  {
   "cell_type": "code",
   "execution_count": 6,
   "id": "b66ea9ae",
   "metadata": {},
   "outputs": [
    {
     "data": {
      "text/plain": [
       "<matplotlib.image.AxesImage at 0x278e52f29d0>"
      ]
     },
     "execution_count": 6,
     "metadata": {},
     "output_type": "execute_result"
    },
    {
     "data": {
      "image/png": "[encoded data removed]",
      "text/plain": [
       "<Figure size 1440x720 with 1 Axes>"
      ]
     },
     "metadata": {
      "needs_background": "light"
     },
     "output_type": "display_data"
    }
   ],
   "source": [
    "x = ChangeDetector().fit(D).predict()\n",
    "plt.figure(figsize=(20, 10))\n",
    "plt.imshow(x, cmap=\"gray\")"
   ]
  },
  {
   "cell_type": "code",
   "execution_count": 7,
   "id": "2f1467d1",
   "metadata": {},
   "outputs": [
    {
     "data": {
      "text/plain": [
       "array([[0., 0., 0., 0., 0., 0., 0., 0., 0., 0., 0., 0., 0., 0., 0., 0.,\n",
       "        0., 0., 0., 0., 1., 0., 0., 0., 0., 0., 0., 0., 0., 0., 2., 0.,\n",
       "        0., 0., 0., 0., 0., 0., 0., 0., 3., 0., 0., 0., 0., 0., 0., 0.,\n",
       "        0., 0., 4., 0., 0., 0., 0., 0., 0., 0., 0., 0., 0.],\n",
       "       [0., 0., 0., 0., 0., 0., 0., 0., 0., 0., 0., 0., 0., 0., 0., 0.,\n",
       "        0., 0., 0., 0., 1., 0., 0., 0., 0., 0., 0., 0., 0., 0., 2., 0.,\n",
       "        0., 0., 0., 0., 0., 0., 0., 0., 4., 0., 0., 0., 0., 0., 0., 0.,\n",
       "        0., 0., 4., 0., 0., 0., 0., 0., 0., 0., 0., 0., 0.],\n",
       "       [0., 0., 0., 0., 0., 0., 0., 0., 0., 0., 0., 0., 0., 0., 0., 0.,\n",
       "        0., 0., 0., 0., 1., 0., 0., 0., 0., 0., 0., 0., 0., 0., 4., 0.,\n",
       "        0., 0., 0., 0., 0., 0., 0., 0., 4., 0., 0., 0., 0., 0., 0., 0.,\n",
       "        0., 0., 4., 0., 0., 0., 0., 0., 0., 0., 0., 0., 0.],\n",
       "       [0., 0., 0., 0., 0., 0., 0., 0., 0., 0., 0., 0., 0., 0., 0., 0.,\n",
       "        0., 0., 0., 0., 1., 0., 0., 0., 0., 0., 0., 0., 0., 0., 2., 0.,\n",
       "        0., 0., 0., 0., 0., 0., 0., 0., 4., 0., 0., 0., 0., 0., 0., 0.,\n",
       "        0., 0., 4., 0., 0., 0., 0., 0., 0., 0., 0., 0., 0.],\n",
       "       [0., 0., 0., 0., 0., 0., 0., 0., 0., 0., 0., 0., 0., 0., 0., 0.,\n",
       "        0., 0., 0., 0., 4., 0., 0., 0., 0., 0., 0., 0., 0., 0., 4., 0.,\n",
       "        0., 0., 0., 0., 0., 0., 0., 0., 3., 0., 0., 0., 0., 0., 0., 0.,\n",
       "        0., 0., 4., 0., 0., 0., 0., 0., 0., 0., 0., 0., 0.]])"
      ]
     },
     "execution_count": 7,
     "metadata": {},
     "output_type": "execute_result"
    }
   ],
   "source": [
    "x"
   ]
  }
 ],
 "metadata": {
  "kernelspec": {
   "display_name": "Python 3",
   "language": "python",
   "name": "python3"
  },
  "language_info": {
   "codemirror_mode": {
    "name": "ipython",
    "version": 3
   },
   "file_extension": ".py",
   "mimetype": "text/x-python",
   "name": "python",
   "nbconvert_exporter": "python",
   "pygments_lexer": "ipython3",
   "version": "3.9.5"
  }
 },
 "nbformat": 4,
 "nbformat_minor": 5
}
